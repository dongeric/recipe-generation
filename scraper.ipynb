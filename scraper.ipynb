{
 "cells": [
  {
   "cell_type": "code",
   "execution_count": 11,
   "metadata": {},
   "outputs": [],
   "source": [
    "from recipe_scrapers import scrape_me"
   ]
  },
  {
   "cell_type": "code",
   "execution_count": 73,
   "metadata": {},
   "outputs": [],
   "source": [
    "scraper = scrape_me('https://www.bbcgoodfood.com/recipes/1250')"
   ]
  },
  {
   "cell_type": "code",
   "execution_count": 74,
   "metadata": {},
   "outputs": [
    {
     "data": {
      "text/plain": [
       "'Baked rigatoni with aubergine & mozzarella'"
      ]
     },
     "execution_count": 74,
     "metadata": {},
     "output_type": "execute_result"
    }
   ],
   "source": [
    "scraper.title()\n",
    "# scraper.total_time()\n",
    "# scraper.ingredients()\n",
    "# scraper.instructions()\n",
    "# scraper.links()"
   ]
  },
  {
   "cell_type": "code",
   "execution_count": 78,
   "metadata": {},
   "outputs": [
    {
     "name": "stdout",
     "output_type": "stream",
     "text": [
      "Spotty blueberry & clotted cream cake\n",
      "Orange & rosemary drizzle cake\n",
      "Boozy coffee & walnut cake\n",
      "Coconut & lime cake\n",
      "Nutty apple streusel cake\n",
      "Fudgy dark chocolate cake\n",
      "Cappuccino cake\n",
      "Feta & pepper tortilla\n",
      "Spicy lamb patties\n",
      "Aromatic chicken with sultanas\n",
      "Sweet & hot vegetable curry\n",
      "Peppery fennel & carrot salad\n",
      "Crisp orange shortbread\n",
      "Fresh topped pizza\n",
      "Chocolate & pecan traybake\n",
      "Speedy banana splits\n",
      "Chicken tikka wraps\n",
      "Bacon & broccoli pasta\n",
      "\n",
      "Crispy sesame fish\n",
      "Roasted coriander cauliflower\n",
      "Zesty spring fish\n",
      "Natalie's Trinidadian fish stew\n",
      "Coriander steaks with tomato & rocket salad\n",
      "Stroganoff steaks\n",
      "Steaks in red wine sauce\n",
      "Quick tomato risotto\n",
      "One-pot mushroom & potato curry\n",
      "Roll-your-own fajitas\n",
      "Homemade hummus\n",
      "Minted potato & green bean salad\n",
      "\n",
      "Banana & pecan fudge loaf\n",
      "\n",
      "Bumper oat cookies\n",
      "\n",
      "Cheesy chops & chips\n",
      "Spring spaghetti\n",
      "Macaroni cheese with mushrooms\n",
      "Minty Asian chicken salad\n",
      "Lamb chops with coriander pesto\n",
      "Tangy couscous salad\n",
      "Chicken biryani pilau\n",
      "Moroccan-style chicken\n",
      "Dorset apple traybake\n",
      "Cheese & Marmite scones\n",
      "Isaac's chocolate coconut squares\n",
      "Basic granary bread dough (for rolls or a large loaf)\n",
      "\n",
      "\n",
      "Gravadlax temptation\n",
      "Banana & cinnamon whirls\n",
      "Ultimate apple pie\n",
      "Ultimate pizza Margherita\n",
      "Roast pork with fruity sauce\n",
      "\n",
      "Cheesy autumn mushrooms\n",
      "Coffee cocktails\n",
      "Ten-minute tuna pizza\n",
      "Creamy polenta with spinach\n",
      "Easy white bread\n",
      "Crispy chicken & asparagus pie\n",
      "Onion bacon fougasse\n",
      "Grilled lamb & potato crush\n",
      "Flatbread\n",
      "Roasted chicken & new potato salad\n",
      "Curried flatbread\n",
      "Date & fig bread\n",
      "Apricot brioche\n",
      "Mixed seed bread\n",
      "Gluten-free sundried tomato bread\n",
      "Potato focaccia Pugliese\n",
      "Oriental steak salad\n",
      "Spring-into-summer pasta\n",
      "Baked cheese with herbs\n",
      "Tomato soup\n",
      "Grilled fish with chunky avocado salsa\n",
      "Chunky cheddar & celeriac soup\n",
      "Raspberry & mango salad\n",
      "Warm stilton salad\n",
      "Chicken, goat's cheese & cherry tomato bake\n",
      "Sweet lemon & goat's cheese tart\n",
      "Beetroot hummus with crisp pittas\n",
      "Ossobucco\n",
      "Strawberries in rosé wine\n",
      "Confit of duck\n",
      "Pea & vermouth grain 'risotto'\n",
      "Saffron wild rice\n",
      "Fennel & black olive gratin\n",
      "Spiced carrot & lentil soup\n",
      "Amaretti peaches with honey & chocolate\n",
      "Fennel, broad bean & blue cheese salad\n",
      "Mary's prawn & corn rosti\n",
      "Chicken with tarragon, garlic & olives\n",
      "\n",
      "Mustard-crusted new potatoes\n",
      "Sausage & pumpkin roast\n",
      "Loin of lamb with baba ganoush\n",
      "Scrambled egg stir-fry\n",
      "Pistachio meringues with summer berries\n"
     ]
    }
   ],
   "source": [
    "for i in range(2000,2100):\n",
    "    scraper = scrape_me('https://www.bbcgoodfood.com/recipes/'+str(i))\n",
    "    print(scraper.title())"
   ]
  },
  {
   "cell_type": "code",
   "execution_count": null,
   "metadata": {},
   "outputs": [],
   "source": []
  }
 ],
 "metadata": {
  "kernelspec": {
   "display_name": "Python 3",
   "language": "python",
   "name": "python3"
  },
  "language_info": {
   "codemirror_mode": {
    "name": "ipython",
    "version": 3
   },
   "file_extension": ".py",
   "mimetype": "text/x-python",
   "name": "python",
   "nbconvert_exporter": "python",
   "pygments_lexer": "ipython3",
   "version": "3.6.6"
  }
 },
 "nbformat": 4,
 "nbformat_minor": 2
}
