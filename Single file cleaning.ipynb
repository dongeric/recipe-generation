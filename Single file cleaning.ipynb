{
 "cells": [
  {
   "cell_type": "code",
   "execution_count": 39,
   "metadata": {},
   "outputs": [],
   "source": [
    "import collections, re\n",
    "import nltk\n",
    "from nltk.corpus import stopwords\n",
    "import os\n",
    "import string\n",
    "import numpy as np\n",
    "import pandas as pd\n",
    "from collections import defaultdict\n",
    "from nltk.stem.wordnet import WordNetLemmatizer\n",
    "import pickle"
   ]
  },
  {
   "cell_type": "code",
   "execution_count": 40,
   "metadata": {},
   "outputs": [],
   "source": [
    "cwd = os.getcwd()\n",
    "path = cwd + '/MM-Data-Unzipped'\n",
    "path_art = cwd + '/MM-Data-Unzipped-Art'\n",
    "path_gl = cwd + '/MM-Data-Unzipped-GL'\n",
    "text_list = []\n",
    "recipe_list = []"
   ]
  },
  {
   "cell_type": "code",
   "execution_count": 41,
   "metadata": {},
   "outputs": [],
   "source": [
    "for file in os.listdir(path):\n",
    "    with open(path + '/' + file, 'r', errors='ignore') as f:\n",
    "        text_list.append(f.read())\n",
    "\n",
    "for file in os.listdir(path_art):\n",
    "    with open(path_art + '/' + file, 'r', errors='ignore') as f:\n",
    "        text_list.append(f.read())\n",
    "        \n",
    "for file in os.listdir(path_gl):\n",
    "    with open(path_gl + '/' + file, 'r', errors='ignore') as f:\n",
    "        text_list.append(f.read())"
   ]
  },
  {
   "cell_type": "code",
   "execution_count": 42,
   "metadata": {},
   "outputs": [
    {
     "data": {
      "text/plain": [
       "233"
      ]
     },
     "execution_count": 42,
     "metadata": {},
     "output_type": "execute_result"
    }
   ],
   "source": [
    "len(text_list)"
   ]
  },
  {
   "cell_type": "code",
   "execution_count": 43,
   "metadata": {},
   "outputs": [],
   "source": [
    "for text in text_list:\n",
    "    recipe_list.append(text.split('Title:')[1:])"
   ]
  },
  {
   "cell_type": "code",
   "execution_count": 44,
   "metadata": {},
   "outputs": [
    {
     "data": {
      "text/plain": [
       "229285"
      ]
     },
     "execution_count": 44,
     "metadata": {},
     "output_type": "execute_result"
    }
   ],
   "source": [
    "recipe_list = ['Title:' + recipe for subrecipe_list in recipe_list for recipe in subrecipe_list]\n",
    "len(recipe_list)"
   ]
  },
  {
   "cell_type": "code",
   "execution_count": 45,
   "metadata": {},
   "outputs": [
    {
     "name": "stdout",
     "output_type": "stream",
     "text": [
      "Title: Honey Basted Turkey\n",
      " Categories: Poultry\n",
      "      Yield: 10 servings\n",
      " \n",
      "      6 lb Turkey                            1/2 c  Oil\n",
      "    1/2 c  Soya sauce                          2 tb Honey\n",
      "  1 1/2 ts Ground ginger                   1 1/2 ts Dry mustard\n",
      "      2 ea Cloves garlic, minced          \n",
      " \n",
      "  Cut turkey into pieces as follows; 2 wings, 2 drumsticks, 2 thighs, 4\n",
      "  breast pieces and 4 back pieces.  Combine oil, soya sauce, honey, ginger,\n",
      "  mustard and garlic.  Marinate turkey in soya mixture 2 hours in\n",
      "  refrigerator.  Drain turkey pieces, reserving marinade.  Place drumsticks,\n",
      "  thighs and breast pieces 6 - 8\" abouve medium hot coals. Grill for 30\n",
      "  minutes, turning accasionally.  Add wings and bakc pieces. Grill another 30\n",
      "  minutes, turning occaisionally.  Baste with marinade and grill until turkey\n",
      "  is tender about 20 minutes.\n",
      " \n",
      "-----\n",
      " \n",
      "---------- Recipe via Meal-Master (tm) v8.01\n",
      " \n",
      "      \n"
     ]
    }
   ],
   "source": [
    "print(recipe_list[420])"
   ]
  },
  {
   "cell_type": "code",
   "execution_count": 46,
   "metadata": {},
   "outputs": [],
   "source": [
    "recipes = defaultdict(dict)"
   ]
  },
  {
   "cell_type": "code",
   "execution_count": 47,
   "metadata": {},
   "outputs": [],
   "source": [
    "for r in recipe_list:\n",
    "    space_count = 0\n",
    "    lines = r.split('\\n')\n",
    "    title = ''\n",
    "    instructions = ''\n",
    "    ingredients = []\n",
    "    for l in lines:\n",
    "        if l == ' ':\n",
    "            space_count = space_count + 1\n",
    "        if space_count == 0:\n",
    "            if 'Title' in l:\n",
    "                title = l.split(':')[1].strip().lower()\n",
    "                recipes[title] = {}\n",
    "            if 'Categories' in l:\n",
    "                cats = [w.strip() for w in l.split(':')[1].split(',')]\n",
    "                recipes[title]['Categories'] = cats\n",
    "            if 'Yield' in l or 'Servings' in l:\n",
    "                serve = l.split()[1]\n",
    "                recipes[title]['Yield'] = serve    \n",
    "        elif space_count == 1:\n",
    "            recipes[title]['Ingredients'] = recipes[title].get('Ingredients', [])  + [w.strip() for w in list(filter(None, l.strip().split('    ')))]\n",
    "        elif space_count == 2:\n",
    "            instructions = instructions + l\n",
    "        elif space_count == 3:\n",
    "            recipes[title]['Instructions'] = instructions.strip()"
   ]
  },
  {
   "cell_type": "code",
   "execution_count": 52,
   "metadata": {},
   "outputs": [
    {
     "data": {
      "text/plain": [
       "96361"
      ]
     },
     "execution_count": 52,
     "metadata": {},
     "output_type": "execute_result"
    }
   ],
   "source": [
    "len(recipes)"
   ]
  },
  {
   "cell_type": "code",
   "execution_count": 49,
   "metadata": {},
   "outputs": [],
   "source": [
    "file = open('cleaned-data.pkl', 'wb')\n",
    "pickle.dump(recipes, file)\n",
    "f.close()"
   ]
  }
 ],
 "metadata": {
  "kernelspec": {
   "display_name": "Python 3",
   "language": "python",
   "name": "python3"
  },
  "language_info": {
   "codemirror_mode": {
    "name": "ipython",
    "version": 3
   },
   "file_extension": ".py",
   "mimetype": "text/x-python",
   "name": "python",
   "nbconvert_exporter": "python",
   "pygments_lexer": "ipython3",
   "version": "3.6.6"
  }
 },
 "nbformat": 4,
 "nbformat_minor": 2
}
