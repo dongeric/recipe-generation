{
 "cells": [
  {
   "cell_type": "code",
   "execution_count": 155,
   "metadata": {},
   "outputs": [],
   "source": [
    "import requests\n",
    "from bs4 import BeautifulSoup\n",
    "import zipfile\n",
    "import os"
   ]
  },
  {
   "cell_type": "code",
   "execution_count": 156,
   "metadata": {},
   "outputs": [
    {
     "name": "stdout",
     "output_type": "stream",
     "text": [
      "Creation of the directory /Users/ericdong/Documents/Class/UPenn Senior Fall/CIS519/Project/MM-Data failed\n",
      "Creation of the directory /Users/ericdong/Documents/Class/UPenn Senior Fall/CIS519/Project/MM-Data failed\n",
      "Creation of the directory /Users/ericdong/Documents/Class/UPenn Senior Fall/CIS519/Project/MM-Data failed\n"
     ]
    }
   ],
   "source": [
    "cwd = os.getcwd()\n",
    "newdir = cwd + '/MM-Data'\n",
    "try:  \n",
    "    os.mkdir(newdir)\n",
    "except OSError:  \n",
    "    print ('Creation of the directory %s failed' % newdir)\n",
    "else:  \n",
    "    print ('Successfully created the directory %s' % newdir)\n",
    "    \n",
    "newdir_art = cwd + '/MM-Data-Art'\n",
    "try:  \n",
    "    os.mkdir(newdir)\n",
    "except OSError:  \n",
    "    print ('Creation of the directory %s failed' % newdir)\n",
    "else:  \n",
    "    print ('Successfully created the directory %s' % newdir)\n",
    "    \n",
    "newdir_gl = cwd + '/MM-Data-GL'\n",
    "try:  \n",
    "    os.mkdir(newdir)\n",
    "except OSError:  \n",
    "    print ('Creation of the directory %s failed' % newdir)\n",
    "else:  \n",
    "    print ('Successfully created the directory %s' % newdir)"
   ]
  },
  {
   "cell_type": "code",
   "execution_count": 157,
   "metadata": {},
   "outputs": [],
   "source": [
    "link = 'http://www.ffts.com/recipes.htm'\n",
    "save_folder = newdir\n",
    "save_folder_art = newdir_art\n",
    "save_folder_gl = newdir_gl\n",
    "page = requests.get(link)\n",
    "soup = BeautifulSoup(page.text, 'html.parser')"
   ]
  },
  {
   "cell_type": "code",
   "execution_count": 158,
   "metadata": {},
   "outputs": [],
   "source": [
    "recipe_file_list = soup.find_all(class_='MsoNormalTable')[1]\n",
    "recipe_file_list_art = soup.find_all(class_='MsoNormalTable')[2]\n",
    "\n",
    "recipe_file_list_items = recipe_file_list.find_all('a')\n",
    "recipe_file_list_items_art = recipe_file_list_art.find_all('a')[1:]"
   ]
  },
  {
   "cell_type": "code",
   "execution_count": 159,
   "metadata": {},
   "outputs": [
    {
     "name": "stdout",
     "output_type": "stream",
     "text": [
      "Length of MM: 82\n",
      "Length of Art: 18\n",
      "Length of G&L: 2\n"
     ]
    }
   ],
   "source": [
    "links = []\n",
    "links_art = []\n",
    "links_gl = []\n",
    "\n",
    "for recipe in recipe_file_list_items:\n",
    "    links.append(recipe.attrs['href'])\n",
    "\n",
    "for recipe in recipe_file_list_items_art:\n",
    "    links_art.append(recipe.attrs['href'])\n",
    "\n",
    "links_gl.append('http://www.ffts.com/recipes/lg/lg32965.zip')\n",
    "links_gl.append('http://www.ffts.com/recipes/lg/lg33961.zip')\n",
    "print('Length of MM: %d' % len(links))\n",
    "print('Length of Art: %d' % len(links_art))\n",
    "print('Length of G&L: %d' % len(links_gl))"
   ]
  },
  {
   "cell_type": "code",
   "execution_count": 160,
   "metadata": {},
   "outputs": [],
   "source": [
    "def download_file(file_link, folder):\n",
    "    file = requests.get(file_link).content\n",
    "    name = file_link.split('/')[-1]\n",
    "    save_path = folder + '/' + name\n",
    "\n",
    "#     print(\"Saving file:\", save_path)\n",
    "    with open(save_path, 'wb') as fp:\n",
    "        fp.write(file)"
   ]
  },
  {
   "cell_type": "code",
   "execution_count": 161,
   "metadata": {},
   "outputs": [
    {
     "name": "stdout",
     "output_type": "stream",
     "text": [
      "Finished\n"
     ]
    }
   ],
   "source": [
    "for link in links:\n",
    "    download_file(link, save_folder)\n",
    "    \n",
    "for link in links_art:\n",
    "    download_file(link, save_folder_art)\n",
    "    \n",
    "for link in links_gl:\n",
    "    download_file(link, save_folder_gl)\n",
    "\n",
    "print('Finished')"
   ]
  },
  {
   "cell_type": "code",
   "execution_count": 162,
   "metadata": {},
   "outputs": [
    {
     "name": "stdout",
     "output_type": "stream",
     "text": [
      "Creation of the directory /Users/ericdong/Documents/Class/UPenn Senior Fall/CIS519/Project/MM-Data-Unzipped failed\n",
      "Successfully created the directory /Users/ericdong/Documents/Class/UPenn Senior Fall/CIS519/Project/MM-Data-Unzipped-Art\n",
      "Successfully created the directory /Users/ericdong/Documents/Class/UPenn Senior Fall/CIS519/Project/MM-Data-Unzipped-GL\n"
     ]
    }
   ],
   "source": [
    "cwd = os.getcwd()\n",
    "newdir_unzipped = cwd + '/MM-Data-Unzipped'\n",
    "newdir_unzipped_art = cwd + '/MM-Data-Unzipped-Art'\n",
    "newdir_unzipped_gl = cwd + '/MM-Data-Unzipped-GL'\n",
    "try:  \n",
    "    os.mkdir(newdir_unzipped)\n",
    "except OSError:  \n",
    "    print ('Creation of the directory %s failed' % newdir_unzipped)\n",
    "else:  \n",
    "    print ('Successfully created the directory %s' % newdir_unzipped)\n",
    "    \n",
    "try:  \n",
    "    os.mkdir(newdir_unzipped_art)\n",
    "except OSError:  \n",
    "    print ('Creation of the directory %s failed' % newdir_unzipped_art)\n",
    "else:  \n",
    "    print ('Successfully created the directory %s' % newdir_unzipped_art)\n",
    "    \n",
    "try:  \n",
    "    os.mkdir(newdir_unzipped_gl)\n",
    "except OSError:  \n",
    "    print ('Creation of the directory %s failed' % newdir_unzipped_gl)\n",
    "else:  \n",
    "    print ('Successfully created the directory %s' % newdir_unzipped_gl)\n",
    "    \n",
    "save_folder_unzipped = newdir_unzipped\n",
    "save_folder_unzipped_art = newdir_unzipped_art\n",
    "save_folder_unzipped_gl = newdir_unzipped_gl"
   ]
  },
  {
   "cell_type": "code",
   "execution_count": 163,
   "metadata": {},
   "outputs": [],
   "source": [
    "for zip_file in os.listdir(save_folder):\n",
    "    with zipfile.ZipFile(save_folder + '/' + zip_file, 'r') as zip_ref:\n",
    "        zip_ref.extractall(save_folder_unzipped)\n",
    "        \n",
    "for zip_file in os.listdir(save_folder_art):\n",
    "    with zipfile.ZipFile(save_folder_art + '/' + zip_file, 'r') as zip_ref:\n",
    "        zip_ref.extractall(save_folder_unzipped_art)\n",
    "        \n",
    "for zip_file in os.listdir(save_folder_gl):\n",
    "    with zipfile.ZipFile(save_folder_gl + '/' + zip_file, 'r') as zip_ref:\n",
    "        zip_ref.extractall(save_folder_unzipped_gl)"
   ]
  },
  {
   "cell_type": "code",
   "execution_count": 164,
   "metadata": {},
   "outputs": [
    {
     "name": "stdout",
     "output_type": "stream",
     "text": [
      "Removed M3500_17.txt\n",
      "Removed M3500_16.txt\n",
      "Removed M3500_14.TXT\n",
      "Removed M3500_15.txt\n",
      "Removed M3500_11.TXT\n",
      "Removed Sour.doc\n",
      "Removed M3500_10.TXT\n",
      "Removed M3500_12.TXT\n",
      "Removed M3500_13.txt\n",
      "Removed READ.ME\n",
      "Removed MMVEGY.DOC\n",
      "Removed MM3500_1.TXT\n",
      "Removed MM3500_3.TXT\n",
      "Removed READ!.ME\n",
      "Removed MM3500_2.TXT\n",
      "Removed MM3500_6.TXT\n",
      "Removed MMCHICK.DOC\n",
      "Removed MM3500_7.TXT\n",
      "Removed MM3500_5.TXT\n",
      "Removed LONDONTN.TXT\n",
      "Removed MM3500_4.TXT\n",
      "Removed MM3500_9.TXT\n",
      "Removed MM3500_8.TXT\n",
      "Removed MMMICWV1.DOC\n",
      "Removed MMMICWV2.DOC\n",
      "Removed FILE_ID.DIZ\n",
      "Removed README.TXT\n",
      "Removed CCAKES.TXT\n",
      "Removed M3500_18.txt\n",
      "Removed GARLIC.TXT\n",
      "Removed FILE_ID.DIZ\n"
     ]
    }
   ],
   "source": [
    "for file in os.listdir(save_folder_unzipped):\n",
    "    if not file.lower().endswith('.mmf'):\n",
    "        print('Removed %s' % file)\n",
    "        os.remove(os.path.join(save_folder_unzipped, file))\n",
    "        \n",
    "for file in os.listdir(save_folder_unzipped_art):\n",
    "    if not file.lower().endswith('.txt'):\n",
    "        print('Removed %s' % file)\n",
    "        os.remove(os.path.join(save_folder_unzipped_art, file))\n",
    "        \n",
    "for file in os.listdir(save_folder_unzipped_gl):\n",
    "    if not file.lower().endswith('.mmf'):\n",
    "        print('Removed %s' % file)\n",
    "        os.remove(os.path.join(save_folder_unzipped_gl, file))"
   ]
  },
  {
   "cell_type": "code",
   "execution_count": 165,
   "metadata": {},
   "outputs": [
    {
     "name": "stdout",
     "output_type": "stream",
     "text": [
      "148\n",
      "18\n",
      "67\n"
     ]
    }
   ],
   "source": [
    "print(len(os.listdir(save_folder_unzipped)))\n",
    "print(len(os.listdir(save_folder_unzipped_art)))\n",
    "print(len(os.listdir(save_folder_unzipped_gl)))"
   ]
  }
 ],
 "metadata": {
  "kernelspec": {
   "display_name": "Python 3",
   "language": "python",
   "name": "python3"
  },
  "language_info": {
   "codemirror_mode": {
    "name": "ipython",
    "version": 3
   },
   "file_extension": ".py",
   "mimetype": "text/x-python",
   "name": "python",
   "nbconvert_exporter": "python",
   "pygments_lexer": "ipython3",
   "version": "3.6.6"
  }
 },
 "nbformat": 4,
 "nbformat_minor": 2
}
